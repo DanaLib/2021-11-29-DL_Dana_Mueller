{
 "cells": [
  {
   "cell_type": "code",
   "execution_count": 1,
   "id": "6e2aca10",
   "metadata": {},
   "outputs": [],
   "source": [
    "import urllib.request\n",
    "import pandas as pd"
   ]
  },
  {
   "cell_type": "code",
   "execution_count": 2,
   "id": "a776b242",
   "metadata": {},
   "outputs": [
    {
     "data": {
      "text/plain": [
       "('checkout.csv', <http.client.HTTPMessage at 0x7fb0a2cb36a0>)"
      ]
     },
     "execution_count": 2,
     "metadata": {},
     "output_type": "execute_result"
    }
   ],
   "source": [
    "url = \"https://data.seattle.gov/resource/tmmm-ytt6.csv?$where=checkoutyear=2018&$limit=10000\"\n",
    "checkout_file = \"checkout.csv\"\n",
    "urllib.request.urlretrieve(url, checkout_file)"
   ]
  },
  {
   "cell_type": "code",
   "execution_count": 3,
   "id": "6c5cdaae",
   "metadata": {},
   "outputs": [],
   "source": [
    "checkouts_df = pd.read_csv(checkout_file)"
   ]
  },
  {
   "cell_type": "code",
   "execution_count": 4,
   "id": "355393ef",
   "metadata": {},
   "outputs": [
    {
     "data": {
      "text/html": [
       "<div>\n",
       "<style scoped>\n",
       "    .dataframe tbody tr th:only-of-type {\n",
       "        vertical-align: middle;\n",
       "    }\n",
       "\n",
       "    .dataframe tbody tr th {\n",
       "        vertical-align: top;\n",
       "    }\n",
       "\n",
       "    .dataframe thead th {\n",
       "        text-align: right;\n",
       "    }\n",
       "</style>\n",
       "<table border=\"1\" class=\"dataframe\">\n",
       "  <thead>\n",
       "    <tr style=\"text-align: right;\">\n",
       "      <th></th>\n",
       "      <th>usageclass</th>\n",
       "      <th>checkouttype</th>\n",
       "      <th>materialtype</th>\n",
       "      <th>checkoutyear</th>\n",
       "      <th>checkoutmonth</th>\n",
       "      <th>checkouts</th>\n",
       "      <th>title</th>\n",
       "      <th>creator</th>\n",
       "      <th>subjects</th>\n",
       "      <th>publisher</th>\n",
       "      <th>publicationyear</th>\n",
       "    </tr>\n",
       "  </thead>\n",
       "  <tbody>\n",
       "    <tr>\n",
       "      <th>0</th>\n",
       "      <td>Digital</td>\n",
       "      <td>OverDrive</td>\n",
       "      <td>EBOOK</td>\n",
       "      <td>2018</td>\n",
       "      <td>1</td>\n",
       "      <td>22</td>\n",
       "      <td>Enemy of the State</td>\n",
       "      <td>Vince Flynn</td>\n",
       "      <td>Fiction, Literature, Thriller</td>\n",
       "      <td>Simon &amp; Schuster, Inc.</td>\n",
       "      <td>2017</td>\n",
       "    </tr>\n",
       "    <tr>\n",
       "      <th>1</th>\n",
       "      <td>Digital</td>\n",
       "      <td>Hoopla</td>\n",
       "      <td>TELEVISION</td>\n",
       "      <td>2018</td>\n",
       "      <td>1</td>\n",
       "      <td>1</td>\n",
       "      <td>Newspaper Mom / Cucumber in Rio / Donut Raffle</td>\n",
       "      <td>NaN</td>\n",
       "      <td>Children's</td>\n",
       "      <td>DHX Media</td>\n",
       "      <td>NaN</td>\n",
       "    </tr>\n",
       "    <tr>\n",
       "      <th>2</th>\n",
       "      <td>Physical</td>\n",
       "      <td>Horizon</td>\n",
       "      <td>SOUNDDISC</td>\n",
       "      <td>2018</td>\n",
       "      <td>1</td>\n",
       "      <td>1</td>\n",
       "      <td>Mono / the Mavericks.</td>\n",
       "      <td>Mavericks (Musical group)</td>\n",
       "      <td>Country music 2011 2020</td>\n",
       "      <td>Valory,</td>\n",
       "      <td>[2015]</td>\n",
       "    </tr>\n",
       "    <tr>\n",
       "      <th>3</th>\n",
       "      <td>Digital</td>\n",
       "      <td>OverDrive</td>\n",
       "      <td>EBOOK</td>\n",
       "      <td>2018</td>\n",
       "      <td>1</td>\n",
       "      <td>2</td>\n",
       "      <td>Anna Karenina</td>\n",
       "      <td>Leo Tolstoy</td>\n",
       "      <td>Classic Literature, Fiction, Literature</td>\n",
       "      <td>Penguin Group (USA), Inc.</td>\n",
       "      <td>2009</td>\n",
       "    </tr>\n",
       "    <tr>\n",
       "      <th>4</th>\n",
       "      <td>Digital</td>\n",
       "      <td>OverDrive</td>\n",
       "      <td>EBOOK</td>\n",
       "      <td>2018</td>\n",
       "      <td>1</td>\n",
       "      <td>1</td>\n",
       "      <td>Dragon: Vlad Series, Book 8</td>\n",
       "      <td>Steven Brust</td>\n",
       "      <td>Fantasy, Fiction</td>\n",
       "      <td>Macmillan Publishers</td>\n",
       "      <td>2015</td>\n",
       "    </tr>\n",
       "    <tr>\n",
       "      <th>...</th>\n",
       "      <td>...</td>\n",
       "      <td>...</td>\n",
       "      <td>...</td>\n",
       "      <td>...</td>\n",
       "      <td>...</td>\n",
       "      <td>...</td>\n",
       "      <td>...</td>\n",
       "      <td>...</td>\n",
       "      <td>...</td>\n",
       "      <td>...</td>\n",
       "      <td>...</td>\n",
       "    </tr>\n",
       "    <tr>\n",
       "      <th>9995</th>\n",
       "      <td>Digital</td>\n",
       "      <td>OverDrive</td>\n",
       "      <td>AUDIOBOOK</td>\n",
       "      <td>2018</td>\n",
       "      <td>1</td>\n",
       "      <td>1</td>\n",
       "      <td>Cooking for Picasso: A Novel (unabridged) (Una...</td>\n",
       "      <td>Camille Aubray</td>\n",
       "      <td>Fiction, Historical Fiction, Literature</td>\n",
       "      <td>Books on Tape</td>\n",
       "      <td>2016</td>\n",
       "    </tr>\n",
       "    <tr>\n",
       "      <th>9996</th>\n",
       "      <td>Digital</td>\n",
       "      <td>OverDrive</td>\n",
       "      <td>EBOOK</td>\n",
       "      <td>2018</td>\n",
       "      <td>1</td>\n",
       "      <td>1</td>\n",
       "      <td>The Book of Summer: A Novel</td>\n",
       "      <td>Michelle Gable</td>\n",
       "      <td>Fiction, Historical Fiction, Literature</td>\n",
       "      <td>Macmillan Publishers</td>\n",
       "      <td>2017</td>\n",
       "    </tr>\n",
       "    <tr>\n",
       "      <th>9997</th>\n",
       "      <td>Physical</td>\n",
       "      <td>Horizon</td>\n",
       "      <td>BOOK</td>\n",
       "      <td>2018</td>\n",
       "      <td>1</td>\n",
       "      <td>1</td>\n",
       "      <td>Revival / Stephen King.</td>\n",
       "      <td>King, Stephen, 1947-</td>\n",
       "      <td>Drug addicts Fiction, Clergy Fiction, Rock mus...</td>\n",
       "      <td>Thorndike Press,</td>\n",
       "      <td>2014.</td>\n",
       "    </tr>\n",
       "    <tr>\n",
       "      <th>9998</th>\n",
       "      <td>Physical</td>\n",
       "      <td>Horizon</td>\n",
       "      <td>BOOK</td>\n",
       "      <td>2018</td>\n",
       "      <td>1</td>\n",
       "      <td>4</td>\n",
       "      <td>Loula is leaving for Africa / written and illu...</td>\n",
       "      <td>Villeneuve, Anne, 1966-</td>\n",
       "      <td>Imagination Juvenile fiction, Chauffeurs Juven...</td>\n",
       "      <td>Kids Can Press,</td>\n",
       "      <td>[2013]</td>\n",
       "    </tr>\n",
       "    <tr>\n",
       "      <th>9999</th>\n",
       "      <td>Digital</td>\n",
       "      <td>OverDrive</td>\n",
       "      <td>AUDIOBOOK</td>\n",
       "      <td>2018</td>\n",
       "      <td>1</td>\n",
       "      <td>1</td>\n",
       "      <td>The Story About Ping (Unabridged)</td>\n",
       "      <td>Marjorie Flack</td>\n",
       "      <td>Juvenile Fiction</td>\n",
       "      <td>Weston Woods Studios Inc., a subsidiary of Sch...</td>\n",
       "      <td>2012</td>\n",
       "    </tr>\n",
       "  </tbody>\n",
       "</table>\n",
       "<p>10000 rows × 11 columns</p>\n",
       "</div>"
      ],
      "text/plain": [
       "     usageclass checkouttype materialtype  checkoutyear  checkoutmonth  \\\n",
       "0       Digital    OverDrive        EBOOK          2018              1   \n",
       "1       Digital       Hoopla   TELEVISION          2018              1   \n",
       "2      Physical      Horizon    SOUNDDISC          2018              1   \n",
       "3       Digital    OverDrive        EBOOK          2018              1   \n",
       "4       Digital    OverDrive        EBOOK          2018              1   \n",
       "...         ...          ...          ...           ...            ...   \n",
       "9995    Digital    OverDrive    AUDIOBOOK          2018              1   \n",
       "9996    Digital    OverDrive        EBOOK          2018              1   \n",
       "9997   Physical      Horizon         BOOK          2018              1   \n",
       "9998   Physical      Horizon         BOOK          2018              1   \n",
       "9999    Digital    OverDrive    AUDIOBOOK          2018              1   \n",
       "\n",
       "      checkouts                                              title  \\\n",
       "0            22                                 Enemy of the State   \n",
       "1             1     Newspaper Mom / Cucumber in Rio / Donut Raffle   \n",
       "2             1                              Mono / the Mavericks.   \n",
       "3             2                                      Anna Karenina   \n",
       "4             1                        Dragon: Vlad Series, Book 8   \n",
       "...         ...                                                ...   \n",
       "9995          1  Cooking for Picasso: A Novel (unabridged) (Una...   \n",
       "9996          1                        The Book of Summer: A Novel   \n",
       "9997          1                            Revival / Stephen King.   \n",
       "9998          4  Loula is leaving for Africa / written and illu...   \n",
       "9999          1                  The Story About Ping (Unabridged)   \n",
       "\n",
       "                        creator  \\\n",
       "0                   Vince Flynn   \n",
       "1                           NaN   \n",
       "2     Mavericks (Musical group)   \n",
       "3                   Leo Tolstoy   \n",
       "4                  Steven Brust   \n",
       "...                         ...   \n",
       "9995             Camille Aubray   \n",
       "9996             Michelle Gable   \n",
       "9997       King, Stephen, 1947-   \n",
       "9998    Villeneuve, Anne, 1966-   \n",
       "9999             Marjorie Flack   \n",
       "\n",
       "                                               subjects  \\\n",
       "0                         Fiction, Literature, Thriller   \n",
       "1                                            Children's   \n",
       "2                               Country music 2011 2020   \n",
       "3               Classic Literature, Fiction, Literature   \n",
       "4                                      Fantasy, Fiction   \n",
       "...                                                 ...   \n",
       "9995            Fiction, Historical Fiction, Literature   \n",
       "9996            Fiction, Historical Fiction, Literature   \n",
       "9997  Drug addicts Fiction, Clergy Fiction, Rock mus...   \n",
       "9998  Imagination Juvenile fiction, Chauffeurs Juven...   \n",
       "9999                                   Juvenile Fiction   \n",
       "\n",
       "                                              publisher publicationyear  \n",
       "0                                Simon & Schuster, Inc.            2017  \n",
       "1                                             DHX Media             NaN  \n",
       "2                                               Valory,          [2015]  \n",
       "3                             Penguin Group (USA), Inc.            2009  \n",
       "4                                  Macmillan Publishers            2015  \n",
       "...                                                 ...             ...  \n",
       "9995                                      Books on Tape            2016  \n",
       "9996                               Macmillan Publishers            2017  \n",
       "9997                                   Thorndike Press,           2014.  \n",
       "9998                                    Kids Can Press,          [2013]  \n",
       "9999  Weston Woods Studios Inc., a subsidiary of Sch...            2012  \n",
       "\n",
       "[10000 rows x 11 columns]"
      ]
     },
     "execution_count": 4,
     "metadata": {},
     "output_type": "execute_result"
    }
   ],
   "source": [
    "checkouts_df"
   ]
  },
  {
   "cell_type": "code",
   "execution_count": 16,
   "id": "65acee15",
   "metadata": {},
   "outputs": [],
   "source": [
    "##Frage 1\n",
    "#Welche digitalen Medienarten wurden am häufigsten ausgeliehen?"
   ]
  },
  {
   "cell_type": "code",
   "execution_count": 7,
   "id": "0ce80791",
   "metadata": {},
   "outputs": [
    {
     "data": {
      "text/html": [
       "<div>\n",
       "<style scoped>\n",
       "    .dataframe tbody tr th:only-of-type {\n",
       "        vertical-align: middle;\n",
       "    }\n",
       "\n",
       "    .dataframe tbody tr th {\n",
       "        vertical-align: top;\n",
       "    }\n",
       "\n",
       "    .dataframe thead th {\n",
       "        text-align: right;\n",
       "    }\n",
       "</style>\n",
       "<table border=\"1\" class=\"dataframe\">\n",
       "  <thead>\n",
       "    <tr style=\"text-align: right;\">\n",
       "      <th></th>\n",
       "      <th>usageclass</th>\n",
       "      <th>checkouttype</th>\n",
       "      <th>materialtype</th>\n",
       "      <th>checkoutyear</th>\n",
       "      <th>checkoutmonth</th>\n",
       "      <th>checkouts</th>\n",
       "      <th>title</th>\n",
       "      <th>creator</th>\n",
       "      <th>subjects</th>\n",
       "      <th>publisher</th>\n",
       "      <th>publicationyear</th>\n",
       "    </tr>\n",
       "  </thead>\n",
       "  <tbody>\n",
       "    <tr>\n",
       "      <th>0</th>\n",
       "      <td>Digital</td>\n",
       "      <td>OverDrive</td>\n",
       "      <td>EBOOK</td>\n",
       "      <td>2018</td>\n",
       "      <td>1</td>\n",
       "      <td>22</td>\n",
       "      <td>Enemy of the State</td>\n",
       "      <td>Vince Flynn</td>\n",
       "      <td>Fiction, Literature, Thriller</td>\n",
       "      <td>Simon &amp; Schuster, Inc.</td>\n",
       "      <td>2017</td>\n",
       "    </tr>\n",
       "    <tr>\n",
       "      <th>1</th>\n",
       "      <td>Digital</td>\n",
       "      <td>Hoopla</td>\n",
       "      <td>TELEVISION</td>\n",
       "      <td>2018</td>\n",
       "      <td>1</td>\n",
       "      <td>1</td>\n",
       "      <td>Newspaper Mom / Cucumber in Rio / Donut Raffle</td>\n",
       "      <td>NaN</td>\n",
       "      <td>Children's</td>\n",
       "      <td>DHX Media</td>\n",
       "      <td>NaN</td>\n",
       "    </tr>\n",
       "    <tr>\n",
       "      <th>3</th>\n",
       "      <td>Digital</td>\n",
       "      <td>OverDrive</td>\n",
       "      <td>EBOOK</td>\n",
       "      <td>2018</td>\n",
       "      <td>1</td>\n",
       "      <td>2</td>\n",
       "      <td>Anna Karenina</td>\n",
       "      <td>Leo Tolstoy</td>\n",
       "      <td>Classic Literature, Fiction, Literature</td>\n",
       "      <td>Penguin Group (USA), Inc.</td>\n",
       "      <td>2009</td>\n",
       "    </tr>\n",
       "    <tr>\n",
       "      <th>4</th>\n",
       "      <td>Digital</td>\n",
       "      <td>OverDrive</td>\n",
       "      <td>EBOOK</td>\n",
       "      <td>2018</td>\n",
       "      <td>1</td>\n",
       "      <td>1</td>\n",
       "      <td>Dragon: Vlad Series, Book 8</td>\n",
       "      <td>Steven Brust</td>\n",
       "      <td>Fantasy, Fiction</td>\n",
       "      <td>Macmillan Publishers</td>\n",
       "      <td>2015</td>\n",
       "    </tr>\n",
       "    <tr>\n",
       "      <th>5</th>\n",
       "      <td>Digital</td>\n",
       "      <td>OverDrive</td>\n",
       "      <td>EBOOK</td>\n",
       "      <td>2018</td>\n",
       "      <td>1</td>\n",
       "      <td>1</td>\n",
       "      <td>Little Dorrit</td>\n",
       "      <td>Charles Dickens</td>\n",
       "      <td>Classic Literature, Fiction, Literature</td>\n",
       "      <td>Random House, Inc.</td>\n",
       "      <td>2012</td>\n",
       "    </tr>\n",
       "    <tr>\n",
       "      <th>...</th>\n",
       "      <td>...</td>\n",
       "      <td>...</td>\n",
       "      <td>...</td>\n",
       "      <td>...</td>\n",
       "      <td>...</td>\n",
       "      <td>...</td>\n",
       "      <td>...</td>\n",
       "      <td>...</td>\n",
       "      <td>...</td>\n",
       "      <td>...</td>\n",
       "      <td>...</td>\n",
       "    </tr>\n",
       "    <tr>\n",
       "      <th>9989</th>\n",
       "      <td>Digital</td>\n",
       "      <td>OverDrive</td>\n",
       "      <td>EBOOK</td>\n",
       "      <td>2018</td>\n",
       "      <td>1</td>\n",
       "      <td>1</td>\n",
       "      <td>Face to Face: Amazing New Looks and Inspiratio...</td>\n",
       "      <td>Scott Barnes</td>\n",
       "      <td>Health &amp; Fitness, Nonfiction</td>\n",
       "      <td>Quarto Publishing Group USA</td>\n",
       "      <td>2012</td>\n",
       "    </tr>\n",
       "    <tr>\n",
       "      <th>9994</th>\n",
       "      <td>Digital</td>\n",
       "      <td>OverDrive</td>\n",
       "      <td>EBOOK</td>\n",
       "      <td>2018</td>\n",
       "      <td>1</td>\n",
       "      <td>1</td>\n",
       "      <td>This Is How It Happened</td>\n",
       "      <td>Paula Stokes</td>\n",
       "      <td>Romance, Young Adult Fiction, Young Adult Lite...</td>\n",
       "      <td>HarperCollins Publishers Inc.</td>\n",
       "      <td>2017</td>\n",
       "    </tr>\n",
       "    <tr>\n",
       "      <th>9995</th>\n",
       "      <td>Digital</td>\n",
       "      <td>OverDrive</td>\n",
       "      <td>AUDIOBOOK</td>\n",
       "      <td>2018</td>\n",
       "      <td>1</td>\n",
       "      <td>1</td>\n",
       "      <td>Cooking for Picasso: A Novel (unabridged) (Una...</td>\n",
       "      <td>Camille Aubray</td>\n",
       "      <td>Fiction, Historical Fiction, Literature</td>\n",
       "      <td>Books on Tape</td>\n",
       "      <td>2016</td>\n",
       "    </tr>\n",
       "    <tr>\n",
       "      <th>9996</th>\n",
       "      <td>Digital</td>\n",
       "      <td>OverDrive</td>\n",
       "      <td>EBOOK</td>\n",
       "      <td>2018</td>\n",
       "      <td>1</td>\n",
       "      <td>1</td>\n",
       "      <td>The Book of Summer: A Novel</td>\n",
       "      <td>Michelle Gable</td>\n",
       "      <td>Fiction, Historical Fiction, Literature</td>\n",
       "      <td>Macmillan Publishers</td>\n",
       "      <td>2017</td>\n",
       "    </tr>\n",
       "    <tr>\n",
       "      <th>9999</th>\n",
       "      <td>Digital</td>\n",
       "      <td>OverDrive</td>\n",
       "      <td>AUDIOBOOK</td>\n",
       "      <td>2018</td>\n",
       "      <td>1</td>\n",
       "      <td>1</td>\n",
       "      <td>The Story About Ping (Unabridged)</td>\n",
       "      <td>Marjorie Flack</td>\n",
       "      <td>Juvenile Fiction</td>\n",
       "      <td>Weston Woods Studios Inc., a subsidiary of Sch...</td>\n",
       "      <td>2012</td>\n",
       "    </tr>\n",
       "  </tbody>\n",
       "</table>\n",
       "<p>4005 rows × 11 columns</p>\n",
       "</div>"
      ],
      "text/plain": [
       "     usageclass checkouttype materialtype  checkoutyear  checkoutmonth  \\\n",
       "0       Digital    OverDrive        EBOOK          2018              1   \n",
       "1       Digital       Hoopla   TELEVISION          2018              1   \n",
       "3       Digital    OverDrive        EBOOK          2018              1   \n",
       "4       Digital    OverDrive        EBOOK          2018              1   \n",
       "5       Digital    OverDrive        EBOOK          2018              1   \n",
       "...         ...          ...          ...           ...            ...   \n",
       "9989    Digital    OverDrive        EBOOK          2018              1   \n",
       "9994    Digital    OverDrive        EBOOK          2018              1   \n",
       "9995    Digital    OverDrive    AUDIOBOOK          2018              1   \n",
       "9996    Digital    OverDrive        EBOOK          2018              1   \n",
       "9999    Digital    OverDrive    AUDIOBOOK          2018              1   \n",
       "\n",
       "      checkouts                                              title  \\\n",
       "0            22                                 Enemy of the State   \n",
       "1             1     Newspaper Mom / Cucumber in Rio / Donut Raffle   \n",
       "3             2                                      Anna Karenina   \n",
       "4             1                        Dragon: Vlad Series, Book 8   \n",
       "5             1                                      Little Dorrit   \n",
       "...         ...                                                ...   \n",
       "9989          1  Face to Face: Amazing New Looks and Inspiratio...   \n",
       "9994          1                            This Is How It Happened   \n",
       "9995          1  Cooking for Picasso: A Novel (unabridged) (Una...   \n",
       "9996          1                        The Book of Summer: A Novel   \n",
       "9999          1                  The Story About Ping (Unabridged)   \n",
       "\n",
       "              creator                                           subjects  \\\n",
       "0         Vince Flynn                      Fiction, Literature, Thriller   \n",
       "1                 NaN                                         Children's   \n",
       "3         Leo Tolstoy            Classic Literature, Fiction, Literature   \n",
       "4        Steven Brust                                   Fantasy, Fiction   \n",
       "5     Charles Dickens            Classic Literature, Fiction, Literature   \n",
       "...               ...                                                ...   \n",
       "9989     Scott Barnes                       Health & Fitness, Nonfiction   \n",
       "9994     Paula Stokes  Romance, Young Adult Fiction, Young Adult Lite...   \n",
       "9995   Camille Aubray            Fiction, Historical Fiction, Literature   \n",
       "9996   Michelle Gable            Fiction, Historical Fiction, Literature   \n",
       "9999   Marjorie Flack                                   Juvenile Fiction   \n",
       "\n",
       "                                              publisher publicationyear  \n",
       "0                                Simon & Schuster, Inc.            2017  \n",
       "1                                             DHX Media             NaN  \n",
       "3                             Penguin Group (USA), Inc.            2009  \n",
       "4                                  Macmillan Publishers            2015  \n",
       "5                                    Random House, Inc.            2012  \n",
       "...                                                 ...             ...  \n",
       "9989                        Quarto Publishing Group USA            2012  \n",
       "9994                      HarperCollins Publishers Inc.            2017  \n",
       "9995                                      Books on Tape            2016  \n",
       "9996                               Macmillan Publishers            2017  \n",
       "9999  Weston Woods Studios Inc., a subsidiary of Sch...            2012  \n",
       "\n",
       "[4005 rows x 11 columns]"
      ]
     },
     "execution_count": 7,
     "metadata": {},
     "output_type": "execute_result"
    }
   ],
   "source": [
    "checkouts_df[checkouts_df[\"usageclass\"] == \"Digital\"]"
   ]
  },
  {
   "cell_type": "code",
   "execution_count": 9,
   "id": "ff06853b",
   "metadata": {},
   "outputs": [],
   "source": [
    "checkouts_digital_df = checkouts_df[checkouts_df[\"usageclass\"] == \"Digital\"]"
   ]
  },
  {
   "cell_type": "code",
   "execution_count": 10,
   "id": "4c39f710",
   "metadata": {},
   "outputs": [
    {
     "data": {
      "text/plain": [
       "(4005, 11)"
      ]
     },
     "execution_count": 10,
     "metadata": {},
     "output_type": "execute_result"
    }
   ],
   "source": [
    "checkouts_digital_df.shape"
   ]
  },
  {
   "cell_type": "code",
   "execution_count": 12,
   "id": "50df4d59",
   "metadata": {},
   "outputs": [
    {
     "data": {
      "text/plain": [
       "EBOOK         2088\n",
       "AUDIOBOOK      861\n",
       "SONG           693\n",
       "MUSIC          112\n",
       "MOVIE           95\n",
       "TELEVISION      81\n",
       "COMIC           60\n",
       "MAGAZINE        10\n",
       "VIDEO            5\n",
       "Name: materialtype, dtype: int64"
      ]
     },
     "execution_count": 12,
     "metadata": {},
     "output_type": "execute_result"
    }
   ],
   "source": [
    "checkouts_digital_df[\"materialtype\"].value_counts()"
   ]
  },
  {
   "cell_type": "code",
   "execution_count": 13,
   "id": "807a80ff",
   "metadata": {},
   "outputs": [],
   "source": [
    "%matplotlib inline"
   ]
  },
  {
   "cell_type": "code",
   "execution_count": 14,
   "id": "9dc91027",
   "metadata": {
    "scrolled": true
   },
   "outputs": [
    {
     "data": {
      "text/plain": [
       "<AxesSubplot:>"
      ]
     },
     "execution_count": 14,
     "metadata": {},
     "output_type": "execute_result"
    },
    {
     "data": {
      "image/png": "[encoded data removed]",
      "text/plain": [
       "<Figure size 432x288 with 1 Axes>"
      ]
     },
     "metadata": {
      "needs_background": "light"
     },
     "output_type": "display_data"
    }
   ],
   "source": [
    "checkouts_digital_df[\"materialtype\"].value_counts().plot(kind=\"bar\")"
   ]
  },
  {
   "cell_type": "code",
   "execution_count": 17,
   "id": "5f2557ec",
   "metadata": {},
   "outputs": [],
   "source": [
    "##Frage 2\n",
    "# Welches Publikationsjahr kommt am seltensten vor?"
   ]
  },
  {
   "cell_type": "code",
   "execution_count": 18,
   "id": "5388cf3a",
   "metadata": {},
   "outputs": [
    {
     "data": {
      "text/plain": [
       "2017              479\n",
       "[2017]            418\n",
       "2013              416\n",
       "2014              343\n",
       "[2016]            324\n",
       "                 ... \n",
       "c1976-              1\n",
       "1964.               1\n",
       "c1985-              1\n",
       "c1989-<c1994 >      1\n",
       "©2008.              1\n",
       "Name: publicationyear, Length: 264, dtype: int64"
      ]
     },
     "execution_count": 18,
     "metadata": {},
     "output_type": "execute_result"
    }
   ],
   "source": [
    "checkouts_df[\"publicationyear\"].value_counts()"
   ]
  },
  {
   "cell_type": "code",
   "execution_count": 59,
   "id": "8a81ed34",
   "metadata": {
    "scrolled": false
   },
   "outputs": [
    {
     "data": {
      "text/plain": [
       "<AxesSubplot:ylabel='publicationyear'>"
      ]
     },
     "execution_count": 59,
     "metadata": {},
     "output_type": "execute_result"
    },
    {
     "data": {
      "image/png": "[encoded data removed]",
      "text/plain": [
       "<Figure size 432x288 with 1 Axes>"
      ]
     },
     "metadata": {},
     "output_type": "display_data"
    }
   ],
   "source": [
    "checkouts_df[\"publicationyear\"].value_counts().plot(kind=\"pie\")"
   ]
  },
  {
   "cell_type": "code",
   "execution_count": 30,
   "id": "67057727",
   "metadata": {},
   "outputs": [],
   "source": [
    "## Frage 3\n",
    "# Wieviele checkouts für usageclass \"digital\" ?"
   ]
  },
  {
   "cell_type": "code",
   "execution_count": 32,
   "id": "8a622e49",
   "metadata": {},
   "outputs": [
    {
     "data": {
      "text/plain": [
       "11147"
      ]
     },
     "execution_count": 32,
     "metadata": {},
     "output_type": "execute_result"
    }
   ],
   "source": [
    "checkouts_digital_df[\"checkouts\"].sum()"
   ]
  },
  {
   "cell_type": "code",
   "execution_count": 39,
   "id": "c9c176a7",
   "metadata": {},
   "outputs": [
    {
     "data": {
      "text/plain": [
       "11147"
      ]
     },
     "execution_count": 39,
     "metadata": {},
     "output_type": "execute_result"
    }
   ],
   "source": [
    "checkouts_df[checkouts_df[\"usageclass\"] == \"Digital\"][\"checkouts\"].sum()"
   ]
  }
 ],
 "metadata": {
  "kernelspec": {
   "display_name": "Python 3 (ipykernel)",
   "language": "python",
   "name": "python3"
  },
  "language_info": {
   "codemirror_mode": {
    "name": "ipython",
    "version": 3
   },
   "file_extension": ".py",
   "mimetype": "text/x-python",
   "name": "python",
   "nbconvert_exporter": "python",
   "pygments_lexer": "ipython3",
   "version": "3.9.7"
  }
 },
 "nbformat": 4,
 "nbformat_minor": 5
}
